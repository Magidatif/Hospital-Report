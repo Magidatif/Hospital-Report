{
  "nbformat": 4,
  "nbformat_minor": 0,
  "metadata": {
    "colab": {
      "provenance": [],
      "authorship_tag": "ABX9TyOlddMOENN593Eemuhtdzfe",
      "include_colab_link": true
    },
    "kernelspec": {
      "name": "python3",
      "display_name": "Python 3"
    },
    "language_info": {
      "name": "python"
    }
  },
  "cells": [
    {
      "cell_type": "markdown",
      "metadata": {
        "id": "view-in-github",
        "colab_type": "text"
      },
      "source": [
        "<a href=\"https://colab.research.google.com/github/Magidatif/Hospital-Report/blob/main/Excel_Split.ipynb\" target=\"_parent\"><img src=\"https://colab.research.google.com/assets/colab-badge.svg\" alt=\"Open In Colab\"/></a>"
      ]
    },
    {
      "cell_type": "code",
      "execution_count": null,
      "metadata": {
        "id": "ubBCfOsiQ9RY"
      },
      "outputs": [],
      "source": [
        "import pandas as pd\n",
        "import os\n",
        "\n",
        "def split_excel_sheets():\n",
        "    input_file = input(\"Enter Excel file path: \").strip('\"')\n",
        "\n",
        "    if not os.path.exists(input_file):\n",
        "        print(\"Error: The specified file does not exist!\")\n",
        "        return\n",
        "\n",
        "    output_folder = input(\"Enter output folder path: \").strip('\"')\n",
        "\n",
        "    if not os.path.exists(output_folder):\n",
        "        os.makedirs(output_folder)\n",
        "\n",
        "    xls = pd.ExcelFile(input_file)\n",
        "\n",
        "    for sheet_name in xls.sheet_names:\n",
        "        try:\n",
        "            df = pd.read_excel(xls, sheet_name=sheet_name)\n",
        "            output_file = os.path.join(output_folder, f\"{sheet_name}.xlsx\")\n",
        "            df.to_excel(output_file, index=False, sheet_name=sheet_name)\n",
        "            print(f\"Saved: {output_file}\")\n",
        "        except Exception as e:\n",
        "            print(f\"Error processing sheet {sheet_name}: {str(e)}\")\n",
        "\n",
        "    print(\"Process completed successfully!\")\n",
        "\n",
        "if __name__ == \"__main__\":\n",
        "    split_excel_sheets()\n",
        "    input(\"Press Enter to close...\")\n",
        ""
      ]
    }
  ]
}